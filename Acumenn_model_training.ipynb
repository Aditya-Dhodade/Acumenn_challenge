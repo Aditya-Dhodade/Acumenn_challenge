{
 "cells": [
  {
   "cell_type": "code",
   "execution_count": 148,
   "id": "53bf4501",
   "metadata": {},
   "outputs": [],
   "source": [
    "import pandas as pd\n",
    "import numpy as np\n",
    "import matplotlib.pyplot as plt\n",
    "import yfinance as yf\n",
    "from sklearn.model_selection import train_test_split\n",
    "from sklearn.linear_model import LogisticRegression\n",
    "from sklearn.metrics import accuracy_score\n",
    "from sklearn.tree import DecisionTreeClassifier\n",
    "from sklearn import metrics"
   ]
  },
  {
   "cell_type": "code",
   "execution_count": 149,
   "id": "20323aae",
   "metadata": {},
   "outputs": [],
   "source": [
    "data1 = yf.Ticker('AAPL')\n",
    "data2 = yf.Ticker('TSLA')\n",
    "data3 = yf.Ticker('GOOG')\n",
    "data4 = yf.Ticker('META')\n",
    "data5 = yf.Ticker('NVDA')\n"
   ]
  },
  {
   "cell_type": "code",
   "execution_count": 150,
   "id": "b91e7e4c",
   "metadata": {},
   "outputs": [
    {
     "name": "stdout",
     "output_type": "stream",
     "text": [
      "AAPL: No data found for this date range, symbol may be delisted\n"
     ]
    }
   ],
   "source": [
    "data_aapl = data1.history(period='1d', start='2000-1-1', end='2023-03-25')\n",
    "data_tsla = data2.history(period='1d', start='2000-1-1', end='2023-03-25')\n",
    "data_goog = data3.history(period='1d', start='2000-1-1', end='2023-03-25')\n",
    "data_meta = data4.history(period='1d', start='2000-1-1', end='2023-03-25')"
   ]
  },
  {
   "cell_type": "code",
   "execution_count": 16,
   "id": "a2538988",
   "metadata": {},
   "outputs": [],
   "source": [
    "data_aapl[\"Typical price\"] = (data_aapl['High'] + data_aapl['Close'] + data_aapl['Low'])/3\n",
    "data_tsla[\"Typical price\"] = (data_tsla['High'] + data_tsla['Close'] + data_tsla['Low'])/3\n",
    "data_goog[\"Typical price\"] = (data_goog['High'] + data_goog['Close'] + data_goog['Low'])/3\n",
    "data_meta[\"Typical price\"] = (data_meta['High'] + data_meta['Close'] + data_meta['Low'])/3"
   ]
  },
  {
   "cell_type": "code",
   "execution_count": 20,
   "id": "7b591b92",
   "metadata": {},
   "outputs": [
    {
     "name": "stderr",
     "output_type": "stream",
     "text": [
      "C:\\Users\\Aditya\\AppData\\Local\\Temp\\ipykernel_17932\\670662226.py:5: SettingWithCopyWarning: \n",
      "A value is trying to be set on a copy of a slice from a DataFrame\n",
      "\n",
      "See the caveats in the documentation: https://pandas.pydata.org/pandas-docs/stable/user_guide/indexing.html#returning-a-view-versus-a-copy\n",
      "  data_aapl['avg loss'][i] = abs(data_aapl['Typical price'][i] - data_aapl['Typical price'][i-1])\n",
      "C:\\Users\\Aditya\\AppData\\Local\\Temp\\ipykernel_17932\\670662226.py:6: SettingWithCopyWarning: \n",
      "A value is trying to be set on a copy of a slice from a DataFrame\n",
      "\n",
      "See the caveats in the documentation: https://pandas.pydata.org/pandas-docs/stable/user_guide/indexing.html#returning-a-view-versus-a-copy\n",
      "  data_aapl['avg gain'][i] = 0\n",
      "C:\\Users\\Aditya\\AppData\\Local\\Temp\\ipykernel_17932\\670662226.py:8: SettingWithCopyWarning: \n",
      "A value is trying to be set on a copy of a slice from a DataFrame\n",
      "\n",
      "See the caveats in the documentation: https://pandas.pydata.org/pandas-docs/stable/user_guide/indexing.html#returning-a-view-versus-a-copy\n",
      "  data_aapl['avg gain'][i] = abs(data_aapl['Typical price'][i] - data_aapl['Typical price'][i-1])\n",
      "C:\\Users\\Aditya\\AppData\\Local\\Temp\\ipykernel_17932\\670662226.py:18: SettingWithCopyWarning: \n",
      "A value is trying to be set on a copy of a slice from a DataFrame\n",
      "\n",
      "See the caveats in the documentation: https://pandas.pydata.org/pandas-docs/stable/user_guide/indexing.html#returning-a-view-versus-a-copy\n",
      "  data_tsla['avg gain'][i] = abs(data_tsla['Typical price'][i] - data_tsla['Typical price'][i-1])\n",
      "C:\\Users\\Aditya\\AppData\\Local\\Temp\\ipykernel_17932\\670662226.py:19: SettingWithCopyWarning: \n",
      "A value is trying to be set on a copy of a slice from a DataFrame\n",
      "\n",
      "See the caveats in the documentation: https://pandas.pydata.org/pandas-docs/stable/user_guide/indexing.html#returning-a-view-versus-a-copy\n",
      "  data_tsla['avg loss'][i] = 0\n",
      "C:\\Users\\Aditya\\AppData\\Local\\Temp\\ipykernel_17932\\670662226.py:15: SettingWithCopyWarning: \n",
      "A value is trying to be set on a copy of a slice from a DataFrame\n",
      "\n",
      "See the caveats in the documentation: https://pandas.pydata.org/pandas-docs/stable/user_guide/indexing.html#returning-a-view-versus-a-copy\n",
      "  data_tsla['avg loss'][i] = abs(data_tsla['Typical price'][i] - data_tsla['Typical price'][i-1])\n",
      "C:\\Users\\Aditya\\AppData\\Local\\Temp\\ipykernel_17932\\670662226.py:28: SettingWithCopyWarning: \n",
      "A value is trying to be set on a copy of a slice from a DataFrame\n",
      "\n",
      "See the caveats in the documentation: https://pandas.pydata.org/pandas-docs/stable/user_guide/indexing.html#returning-a-view-versus-a-copy\n",
      "  data_goog['avg gain'][i] = abs(data_goog['Typical price'][i] - data_goog['Typical price'][i-1])\n",
      "C:\\Users\\Aditya\\AppData\\Local\\Temp\\ipykernel_17932\\670662226.py:29: SettingWithCopyWarning: \n",
      "A value is trying to be set on a copy of a slice from a DataFrame\n",
      "\n",
      "See the caveats in the documentation: https://pandas.pydata.org/pandas-docs/stable/user_guide/indexing.html#returning-a-view-versus-a-copy\n",
      "  data_goog['avg loss'][i] = 0\n",
      "C:\\Users\\Aditya\\AppData\\Local\\Temp\\ipykernel_17932\\670662226.py:25: SettingWithCopyWarning: \n",
      "A value is trying to be set on a copy of a slice from a DataFrame\n",
      "\n",
      "See the caveats in the documentation: https://pandas.pydata.org/pandas-docs/stable/user_guide/indexing.html#returning-a-view-versus-a-copy\n",
      "  data_goog['avg loss'][i] = abs(data_goog['Typical price'][i] - data_goog['Typical price'][i-1])\n",
      "C:\\Users\\Aditya\\AppData\\Local\\Temp\\ipykernel_17932\\670662226.py:35: SettingWithCopyWarning: \n",
      "A value is trying to be set on a copy of a slice from a DataFrame\n",
      "\n",
      "See the caveats in the documentation: https://pandas.pydata.org/pandas-docs/stable/user_guide/indexing.html#returning-a-view-versus-a-copy\n",
      "  data_meta['avg loss'][i] = abs(data_meta['Typical price'][i] - data_meta['Typical price'][i-1])\n",
      "C:\\Users\\Aditya\\AppData\\Local\\Temp\\ipykernel_17932\\670662226.py:36: SettingWithCopyWarning: \n",
      "A value is trying to be set on a copy of a slice from a DataFrame\n",
      "\n",
      "See the caveats in the documentation: https://pandas.pydata.org/pandas-docs/stable/user_guide/indexing.html#returning-a-view-versus-a-copy\n",
      "  data_meta['avg gain'][i] = 0\n",
      "C:\\Users\\Aditya\\AppData\\Local\\Temp\\ipykernel_17932\\670662226.py:38: SettingWithCopyWarning: \n",
      "A value is trying to be set on a copy of a slice from a DataFrame\n",
      "\n",
      "See the caveats in the documentation: https://pandas.pydata.org/pandas-docs/stable/user_guide/indexing.html#returning-a-view-versus-a-copy\n",
      "  data_meta['avg gain'][i] = abs(data_meta['Typical price'][i] - data_meta['Typical price'][i-1])\n"
     ]
    }
   ],
   "source": [
    "data_aapl['avg gain'] = 0\n",
    "data_aapl['avg loss'] = 0\n",
    "for i in range(1,len(data_aapl)):\n",
    "    if (data_aapl['Typical price'][i] - data_aapl['Typical price'][i-1]) < 0:\n",
    "        data_aapl['avg loss'][i] = abs(data_aapl['Typical price'][i] - data_aapl['Typical price'][i-1])\n",
    "        data_aapl['avg gain'][i] = 0\n",
    "    else:\n",
    "        data_aapl['avg gain'][i] = abs(data_aapl['Typical price'][i] - data_aapl['Typical price'][i-1])\n",
    "        data_aapl['avg loss'][i] = 0\n",
    "        \n",
    "data_tsla['avg gain'] = 0\n",
    "data_tsla['avg loss'] = 0\n",
    "for i in range(1,len(data_tsla)):\n",
    "    if (data_tsla['Typical price'][i] - data_tsla['Typical price'][i-1]) < 0:\n",
    "        data_tsla['avg loss'][i] = abs(data_tsla['Typical price'][i] - data_tsla['Typical price'][i-1])\n",
    "        data_tsla['avg gain'][i] = 0\n",
    "    else:\n",
    "        data_tsla['avg gain'][i] = abs(data_tsla['Typical price'][i] - data_tsla['Typical price'][i-1])\n",
    "        data_tsla['avg loss'][i] = 0\n",
    "\n",
    "data_goog['avg gain'] = 0\n",
    "data_goog['avg loss'] = 0\n",
    "for i in range(1,len(data_goog)):\n",
    "    if (data_goog['Typical price'][i] - data_goog['Typical price'][i-1]) < 0:\n",
    "        data_goog['avg loss'][i] = abs(data_goog['Typical price'][i] - data_goog['Typical price'][i-1])\n",
    "        data_goog['avg gain'][i] = 0\n",
    "    else:\n",
    "        data_goog['avg gain'][i] = abs(data_goog['Typical price'][i] - data_goog['Typical price'][i-1])\n",
    "        data_goog['avg loss'][i] = 0\n",
    "\n",
    "data_meta['avg gain'] = 0\n",
    "data_meta['avg loss'] = 0\n",
    "for i in range(1,len(data_meta)):\n",
    "    if (data_meta['Typical price'][i] - data_meta['Typical price'][i-1]) < 0:\n",
    "        data_meta['avg loss'][i] = abs(data_meta['Typical price'][i] - data_meta['Typical price'][i-1])\n",
    "        data_meta['avg gain'][i] = 0\n",
    "    else:\n",
    "        data_meta['avg gain'][i] = abs(data_meta['Typical price'][i] - data_meta['Typical price'][i-1])\n",
    "        data_meta['avg loss'][i] = 0"
   ]
  },
  {
   "cell_type": "code",
   "execution_count": 21,
   "id": "9bbae2ba",
   "metadata": {},
   "outputs": [
    {
     "name": "stderr",
     "output_type": "stream",
     "text": [
      "C:\\Users\\Aditya\\AppData\\Local\\Temp\\ipykernel_17932\\1522185440.py:10: SettingWithCopyWarning: \n",
      "A value is trying to be set on a copy of a slice from a DataFrame\n",
      "\n",
      "See the caveats in the documentation: https://pandas.pydata.org/pandas-docs/stable/user_guide/indexing.html#returning-a-view-versus-a-copy\n",
      "  data_aapl['avgg'][i] = sumg/14\n",
      "C:\\Users\\Aditya\\AppData\\Local\\Temp\\ipykernel_17932\\1522185440.py:11: SettingWithCopyWarning: \n",
      "A value is trying to be set on a copy of a slice from a DataFrame\n",
      "\n",
      "See the caveats in the documentation: https://pandas.pydata.org/pandas-docs/stable/user_guide/indexing.html#returning-a-view-versus-a-copy\n",
      "  data_aapl['avgl'][i] = suml/14\n",
      "C:\\Users\\Aditya\\AppData\\Local\\Temp\\ipykernel_17932\\1522185440.py:22: SettingWithCopyWarning: \n",
      "A value is trying to be set on a copy of a slice from a DataFrame\n",
      "\n",
      "See the caveats in the documentation: https://pandas.pydata.org/pandas-docs/stable/user_guide/indexing.html#returning-a-view-versus-a-copy\n",
      "  data_goog['avgg'][i] = sumg/14\n",
      "C:\\Users\\Aditya\\AppData\\Local\\Temp\\ipykernel_17932\\1522185440.py:23: SettingWithCopyWarning: \n",
      "A value is trying to be set on a copy of a slice from a DataFrame\n",
      "\n",
      "See the caveats in the documentation: https://pandas.pydata.org/pandas-docs/stable/user_guide/indexing.html#returning-a-view-versus-a-copy\n",
      "  data_goog['avgl'][i] = suml/14\n",
      "C:\\Users\\Aditya\\AppData\\Local\\Temp\\ipykernel_17932\\1522185440.py:34: SettingWithCopyWarning: \n",
      "A value is trying to be set on a copy of a slice from a DataFrame\n",
      "\n",
      "See the caveats in the documentation: https://pandas.pydata.org/pandas-docs/stable/user_guide/indexing.html#returning-a-view-versus-a-copy\n",
      "  data_meta['avgg'][i] = sumg/14\n",
      "C:\\Users\\Aditya\\AppData\\Local\\Temp\\ipykernel_17932\\1522185440.py:35: SettingWithCopyWarning: \n",
      "A value is trying to be set on a copy of a slice from a DataFrame\n",
      "\n",
      "See the caveats in the documentation: https://pandas.pydata.org/pandas-docs/stable/user_guide/indexing.html#returning-a-view-versus-a-copy\n",
      "  data_meta['avgl'][i] = suml/14\n",
      "C:\\Users\\Aditya\\AppData\\Local\\Temp\\ipykernel_17932\\1522185440.py:46: SettingWithCopyWarning: \n",
      "A value is trying to be set on a copy of a slice from a DataFrame\n",
      "\n",
      "See the caveats in the documentation: https://pandas.pydata.org/pandas-docs/stable/user_guide/indexing.html#returning-a-view-versus-a-copy\n",
      "  data_tsla['avgg'][i] = sumg/14\n",
      "C:\\Users\\Aditya\\AppData\\Local\\Temp\\ipykernel_17932\\1522185440.py:47: SettingWithCopyWarning: \n",
      "A value is trying to be set on a copy of a slice from a DataFrame\n",
      "\n",
      "See the caveats in the documentation: https://pandas.pydata.org/pandas-docs/stable/user_guide/indexing.html#returning-a-view-versus-a-copy\n",
      "  data_tsla['avgl'][i] = suml/14\n"
     ]
    }
   ],
   "source": [
    "data_aapl['avgg'] = 0\n",
    "data_aapl['avgl'] = 0\n",
    "\n",
    "for i in range(14,len(data_aapl)):\n",
    "    sumg = 0\n",
    "    suml = 0\n",
    "    for j in range(i-14,i):\n",
    "        suml += data_aapl['avg loss'][j]\n",
    "        sumg += data_aapl['avg gain'][i]\n",
    "    data_aapl['avgg'][i] = sumg/14\n",
    "    data_aapl['avgl'][i] = suml/14\n",
    "\n",
    "data_goog['avgg'] = 0\n",
    "data_goog['avgl'] = 0\n",
    "\n",
    "for i in range(14,len(data_goog)):\n",
    "    sumg = 0\n",
    "    suml = 0\n",
    "    for j in range(i-14,i):\n",
    "        suml += data_goog['avg loss'][j]\n",
    "        sumg += data_goog['avg gain'][i]\n",
    "    data_goog['avgg'][i] = sumg/14\n",
    "    data_goog['avgl'][i] = suml/14\n",
    "\n",
    "    data_meta['avgg'] = 0\n",
    "data_meta['avgl'] = 0\n",
    "\n",
    "for i in range(14,len(data_meta)):\n",
    "    sumg = 0\n",
    "    suml = 0\n",
    "    for j in range(i-14,i):\n",
    "        suml += data_meta['avg loss'][j]\n",
    "        sumg += data_meta['avg gain'][i]\n",
    "    data_meta['avgg'][i] = sumg/14\n",
    "    data_meta['avgl'][i] = suml/14\n",
    "\n",
    "data_tsla['avgg'] = 0\n",
    "data_tsla['avgl'] = 0\n",
    "\n",
    "for i in range(14,len(data_tsla)):\n",
    "    sumg = 0\n",
    "    suml = 0\n",
    "    for j in range(i-14,i):\n",
    "        suml += data_tsla['avg loss'][j]\n",
    "        sumg += data_tsla['avg gain'][i]\n",
    "    data_tsla['avgg'][i] = sumg/14\n",
    "    data_tsla['avgl'][i] = suml/14"
   ]
  },
  {
   "cell_type": "code",
   "execution_count": 24,
   "id": "69697c98",
   "metadata": {},
   "outputs": [
    {
     "name": "stderr",
     "output_type": "stream",
     "text": [
      "C:\\Users\\Aditya\\AppData\\Local\\Temp\\ipykernel_17932\\3042525010.py:3: SettingWithCopyWarning: \n",
      "A value is trying to be set on a copy of a slice from a DataFrame\n",
      "\n",
      "See the caveats in the documentation: https://pandas.pydata.org/pandas-docs/stable/user_guide/indexing.html#returning-a-view-versus-a-copy\n",
      "  data_aapl['rs'][i] = data_aapl['avgg'][i]/data_aapl['avgl'][i]\n",
      "C:\\Users\\Aditya\\AppData\\Local\\Temp\\ipykernel_17932\\3042525010.py:3: RuntimeWarning: divide by zero encountered in double_scalars\n",
      "  data_aapl['rs'][i] = data_aapl['avgg'][i]/data_aapl['avgl'][i]\n",
      "C:\\Users\\Aditya\\AppData\\Local\\Temp\\ipykernel_17932\\3042525010.py:3: RuntimeWarning: invalid value encountered in double_scalars\n",
      "  data_aapl['rs'][i] = data_aapl['avgg'][i]/data_aapl['avgl'][i]\n",
      "C:\\Users\\Aditya\\AppData\\Local\\Temp\\ipykernel_17932\\3042525010.py:7: SettingWithCopyWarning: \n",
      "A value is trying to be set on a copy of a slice from a DataFrame\n",
      "\n",
      "See the caveats in the documentation: https://pandas.pydata.org/pandas-docs/stable/user_guide/indexing.html#returning-a-view-versus-a-copy\n",
      "  data_goog['rs'][i] = data_goog['avgg'][i]/data_goog['avgl'][i]\n",
      "C:\\Users\\Aditya\\AppData\\Local\\Temp\\ipykernel_17932\\3042525010.py:7: RuntimeWarning: invalid value encountered in double_scalars\n",
      "  data_goog['rs'][i] = data_goog['avgg'][i]/data_goog['avgl'][i]\n",
      "C:\\Users\\Aditya\\AppData\\Local\\Temp\\ipykernel_17932\\3042525010.py:11: SettingWithCopyWarning: \n",
      "A value is trying to be set on a copy of a slice from a DataFrame\n",
      "\n",
      "See the caveats in the documentation: https://pandas.pydata.org/pandas-docs/stable/user_guide/indexing.html#returning-a-view-versus-a-copy\n",
      "  data_tsla['rs'][i] = data_tsla['avgg'][i]/data_tsla['avgl'][i]\n",
      "C:\\Users\\Aditya\\AppData\\Local\\Temp\\ipykernel_17932\\3042525010.py:11: RuntimeWarning: divide by zero encountered in double_scalars\n",
      "  data_tsla['rs'][i] = data_tsla['avgg'][i]/data_tsla['avgl'][i]\n",
      "C:\\Users\\Aditya\\AppData\\Local\\Temp\\ipykernel_17932\\3042525010.py:11: RuntimeWarning: invalid value encountered in double_scalars\n",
      "  data_tsla['rs'][i] = data_tsla['avgg'][i]/data_tsla['avgl'][i]\n",
      "C:\\Users\\Aditya\\AppData\\Local\\Temp\\ipykernel_17932\\3042525010.py:15: SettingWithCopyWarning: \n",
      "A value is trying to be set on a copy of a slice from a DataFrame\n",
      "\n",
      "See the caveats in the documentation: https://pandas.pydata.org/pandas-docs/stable/user_guide/indexing.html#returning-a-view-versus-a-copy\n",
      "  data_meta['rs'][i] = data_meta['avgg'][i]/data_meta['avgl'][i]\n"
     ]
    }
   ],
   "source": [
    "data_aapl['rs'] = 0\n",
    "for i in range(14,len(data_aapl)):\n",
    "    data_aapl['rs'][i] = data_aapl['avgg'][i]/data_aapl['avgl'][i]\n",
    "\n",
    "data_goog['rs'] = 0\n",
    "for i in range(14,len(data_goog)):\n",
    "    data_goog['rs'][i] = data_goog['avgg'][i]/data_goog['avgl'][i]\n",
    "               \n",
    "data_tsla['rs'] = 0\n",
    "for i in range(14,len(data_tsla)):\n",
    "    data_tsla['rs'][i] = data_tsla['avgg'][i]/data_tsla['avgl'][i]\n",
    "\n",
    "data_meta['rs'] = 0\n",
    "for i in range(14,len(data_meta)):\n",
    "    data_meta['rs'][i] = data_meta['avgg'][i]/data_meta['avgl'][i]"
   ]
  },
  {
   "cell_type": "code",
   "execution_count": 25,
   "id": "261da69e",
   "metadata": {},
   "outputs": [
    {
     "name": "stderr",
     "output_type": "stream",
     "text": [
      "C:\\Users\\Aditya\\AppData\\Local\\Temp\\ipykernel_17932\\222540709.py:3: SettingWithCopyWarning: \n",
      "A value is trying to be set on a copy of a slice from a DataFrame\n",
      "\n",
      "See the caveats in the documentation: https://pandas.pydata.org/pandas-docs/stable/user_guide/indexing.html#returning-a-view-versus-a-copy\n",
      "  data_aapl['rsi'][i] = 100 - (100 / (1 + data_aapl['rs'][i]))\n",
      "C:\\Users\\Aditya\\AppData\\Local\\Temp\\ipykernel_17932\\222540709.py:6: SettingWithCopyWarning: \n",
      "A value is trying to be set on a copy of a slice from a DataFrame\n",
      "\n",
      "See the caveats in the documentation: https://pandas.pydata.org/pandas-docs/stable/user_guide/indexing.html#returning-a-view-versus-a-copy\n",
      "  data_tsla['rsi'][i] = 100 - (100 / (1 + data_tsla['rs'][i]))\n",
      "C:\\Users\\Aditya\\AppData\\Local\\Temp\\ipykernel_17932\\222540709.py:9: SettingWithCopyWarning: \n",
      "A value is trying to be set on a copy of a slice from a DataFrame\n",
      "\n",
      "See the caveats in the documentation: https://pandas.pydata.org/pandas-docs/stable/user_guide/indexing.html#returning-a-view-versus-a-copy\n",
      "  data_meta['rsi'][i] = 100 - (100 / (1 + data_meta['rs'][i]))\n",
      "C:\\Users\\Aditya\\AppData\\Local\\Temp\\ipykernel_17932\\222540709.py:12: SettingWithCopyWarning: \n",
      "A value is trying to be set on a copy of a slice from a DataFrame\n",
      "\n",
      "See the caveats in the documentation: https://pandas.pydata.org/pandas-docs/stable/user_guide/indexing.html#returning-a-view-versus-a-copy\n",
      "  data_goog['rsi'][i] = 100 - (100 / (1 + data_goog['rs'][i]))\n"
     ]
    }
   ],
   "source": [
    "data_aapl['rsi'] = 0\n",
    "for i in range(14,len(data_aapl)):\n",
    "    data_aapl['rsi'][i] = 100 - (100 / (1 + data_aapl['rs'][i]))\n",
    "data_tsla['rsi'] = 0\n",
    "for i in range(14,len(data_tsla)):\n",
    "    data_tsla['rsi'][i] = 100 - (100 / (1 + data_tsla['rs'][i]))\n",
    "data_meta['rsi'] = 0\n",
    "for i in range(14,len(data_meta)):\n",
    "    data_meta['rsi'][i] = 100 - (100 / (1 + data_meta['rs'][i]))\n",
    "data_goog['rsi'] = 0\n",
    "for i in range(14,len(data_goog)):\n",
    "    data_goog['rsi'][i] = 100 - (100 / (1 + data_goog['rs'][i]))"
   ]
  },
  {
   "cell_type": "code",
   "execution_count": 29,
   "id": "6c17072f",
   "metadata": {},
   "outputs": [
    {
     "name": "stderr",
     "output_type": "stream",
     "text": [
      "C:\\Users\\Aditya\\AppData\\Local\\Temp\\ipykernel_17932\\2748497283.py:4: SettingWithCopyWarning: \n",
      "A value is trying to be set on a copy of a slice from a DataFrame\n",
      "\n",
      "See the caveats in the documentation: https://pandas.pydata.org/pandas-docs/stable/user_guide/indexing.html#returning-a-view-versus-a-copy\n",
      "  data_aapl['ema50'][i] = ((data_aapl['Close'][i] - data_aapl['ema50'][i-1]) * 2 / (51)) + data_aapl['ema50'][i-1]\n",
      "C:\\Users\\Aditya\\AppData\\Local\\Temp\\ipykernel_17932\\2748497283.py:6: SettingWithCopyWarning: \n",
      "A value is trying to be set on a copy of a slice from a DataFrame\n",
      "\n",
      "See the caveats in the documentation: https://pandas.pydata.org/pandas-docs/stable/user_guide/indexing.html#returning-a-view-versus-a-copy\n",
      "  data_aapl['ema200'][i] = ((data_aapl['Close'][i] - data_aapl['ema200'][i-1]) * 2 / (201)) + data_aapl['ema200'][i-1]\n",
      "C:\\Users\\Aditya\\AppData\\Local\\Temp\\ipykernel_17932\\2748497283.py:10: SettingWithCopyWarning: \n",
      "A value is trying to be set on a copy of a slice from a DataFrame\n",
      "\n",
      "See the caveats in the documentation: https://pandas.pydata.org/pandas-docs/stable/user_guide/indexing.html#returning-a-view-versus-a-copy\n",
      "  data_goog['ema50'][i] = ((data_goog['Close'][i] - data_goog['ema50'][i-1]) * 2 / (51)) + data_goog['ema50'][i-1]\n",
      "C:\\Users\\Aditya\\AppData\\Local\\Temp\\ipykernel_17932\\2748497283.py:12: SettingWithCopyWarning: \n",
      "A value is trying to be set on a copy of a slice from a DataFrame\n",
      "\n",
      "See the caveats in the documentation: https://pandas.pydata.org/pandas-docs/stable/user_guide/indexing.html#returning-a-view-versus-a-copy\n",
      "  data_goog['ema200'][i] = ((data_goog['Close'][i] - data_goog['ema200'][i-1]) * 2 / (201)) + data_goog['ema200'][i-1]\n",
      "C:\\Users\\Aditya\\AppData\\Local\\Temp\\ipykernel_17932\\2748497283.py:16: SettingWithCopyWarning: \n",
      "A value is trying to be set on a copy of a slice from a DataFrame\n",
      "\n",
      "See the caveats in the documentation: https://pandas.pydata.org/pandas-docs/stable/user_guide/indexing.html#returning-a-view-versus-a-copy\n",
      "  data_tsla['ema50'][i] = ((data_tsla['Close'][i] - data_tsla['ema50'][i-1]) * 2 / (51)) + data_tsla['ema50'][i-1]\n",
      "C:\\Users\\Aditya\\AppData\\Local\\Temp\\ipykernel_17932\\2748497283.py:18: SettingWithCopyWarning: \n",
      "A value is trying to be set on a copy of a slice from a DataFrame\n",
      "\n",
      "See the caveats in the documentation: https://pandas.pydata.org/pandas-docs/stable/user_guide/indexing.html#returning-a-view-versus-a-copy\n",
      "  data_tsla['ema200'][i] = ((data_tsla['Close'][i] - data_tsla['ema200'][i-1]) * 2 / (201)) + data_tsla['ema200'][i-1]\n",
      "C:\\Users\\Aditya\\AppData\\Local\\Temp\\ipykernel_17932\\2748497283.py:22: SettingWithCopyWarning: \n",
      "A value is trying to be set on a copy of a slice from a DataFrame\n",
      "\n",
      "See the caveats in the documentation: https://pandas.pydata.org/pandas-docs/stable/user_guide/indexing.html#returning-a-view-versus-a-copy\n",
      "  data_meta['ema50'][i] = ((data_meta['Close'][i] - data_meta['ema50'][i-1]) * 2 / (51)) + data_meta['ema50'][i-1]\n",
      "C:\\Users\\Aditya\\AppData\\Local\\Temp\\ipykernel_17932\\2748497283.py:24: SettingWithCopyWarning: \n",
      "A value is trying to be set on a copy of a slice from a DataFrame\n",
      "\n",
      "See the caveats in the documentation: https://pandas.pydata.org/pandas-docs/stable/user_guide/indexing.html#returning-a-view-versus-a-copy\n",
      "  data_meta['ema200'][i] = ((data_meta['Close'][i] - data_meta['ema200'][i-1]) * 2 / (201)) + data_meta['ema200'][i-1]\n"
     ]
    }
   ],
   "source": [
    "data_aapl['ema50'] = 0\n",
    "data_aapl['ema200'] = 0\n",
    "for i in range(50,len(data_aapl)):\n",
    "    data_aapl['ema50'][i] = ((data_aapl['Close'][i] - data_aapl['ema50'][i-1]) * 2 / (51)) + data_aapl['ema50'][i-1]\n",
    "for i in range(200,len(data_aapl)):    \n",
    "    data_aapl['ema200'][i] = ((data_aapl['Close'][i] - data_aapl['ema200'][i-1]) * 2 / (201)) + data_aapl['ema200'][i-1]\n",
    "data_goog['ema50'] = 0\n",
    "data_goog['ema200'] = 0\n",
    "for i in range(50,len(data_goog)):\n",
    "    data_goog['ema50'][i] = ((data_goog['Close'][i] - data_goog['ema50'][i-1]) * 2 / (51)) + data_goog['ema50'][i-1]\n",
    "for i in range(200,len(data_goog)):    \n",
    "    data_goog['ema200'][i] = ((data_goog['Close'][i] - data_goog['ema200'][i-1]) * 2 / (201)) + data_goog['ema200'][i-1]\n",
    "data_tsla['ema50'] = 0\n",
    "data_tsla['ema200'] = 0\n",
    "for i in range(50,len(data_tsla)):\n",
    "    data_tsla['ema50'][i] = ((data_tsla['Close'][i] - data_tsla['ema50'][i-1]) * 2 / (51)) + data_tsla['ema50'][i-1]\n",
    "for i in range(200,len(data_tsla)):    \n",
    "    data_tsla['ema200'][i] = ((data_tsla['Close'][i] - data_tsla['ema200'][i-1]) * 2 / (201)) + data_tsla['ema200'][i-1]\n",
    "data_meta['ema50'] = 0\n",
    "data_meta['ema200'] = 0\n",
    "for i in range(50,len(data_meta)):\n",
    "    data_meta['ema50'][i] = ((data_meta['Close'][i] - data_meta['ema50'][i-1]) * 2 / (51)) + data_meta['ema50'][i-1]\n",
    "for i in range(200,len(data_meta)):    \n",
    "    data_meta['ema200'][i] = ((data_meta['Close'][i] - data_meta['ema200'][i-1]) * 2 / (201)) + data_meta['ema200'][i-1]\n",
    "    data_meta['ema200'][i] = ((data_meta['Close'][i] - data_meta['ema200'][i-1]) * 2 / (201)) + data_meta['ema200'][i-1]\n",
    "    \n"
   ]
  },
  {
   "cell_type": "code",
   "execution_count": 32,
   "id": "e1eed67c",
   "metadata": {},
   "outputs": [
    {
     "name": "stderr",
     "output_type": "stream",
     "text": [
      "C:\\Users\\Aditya\\AppData\\Local\\Temp\\ipykernel_17932\\4100907183.py:4: SettingWithCopyWarning: \n",
      "A value is trying to be set on a copy of a slice from a DataFrame\n",
      "\n",
      "See the caveats in the documentation: https://pandas.pydata.org/pandas-docs/stable/user_guide/indexing.html#returning-a-view-versus-a-copy\n",
      "  data_aapl['ema13'][i] = ((data_aapl['Close'][i] - data_aapl['ema13'][i-1]) * 2 / (14)) + data_aapl['ema13'][i-1]\n",
      "C:\\Users\\Aditya\\AppData\\Local\\Temp\\ipykernel_17932\\4100907183.py:6: SettingWithCopyWarning: \n",
      "A value is trying to be set on a copy of a slice from a DataFrame\n",
      "\n",
      "See the caveats in the documentation: https://pandas.pydata.org/pandas-docs/stable/user_guide/indexing.html#returning-a-view-versus-a-copy\n",
      "  data_aapl['ema26'][i] = ((data_aapl['Close'][i] - data_aapl['ema26'][i-1]) * 2 / (27)) + data_aapl['ema26'][i-1]\n",
      "C:\\Users\\Aditya\\AppData\\Local\\Temp\\ipykernel_17932\\4100907183.py:11: SettingWithCopyWarning: \n",
      "A value is trying to be set on a copy of a slice from a DataFrame\n",
      "\n",
      "See the caveats in the documentation: https://pandas.pydata.org/pandas-docs/stable/user_guide/indexing.html#returning-a-view-versus-a-copy\n",
      "  data_meta['ema13'][i] = ((data_meta['Close'][i] - data_meta['ema13'][i-1]) * 2 / (14)) + data_meta['ema13'][i-1]\n",
      "C:\\Users\\Aditya\\AppData\\Local\\Temp\\ipykernel_17932\\4100907183.py:13: SettingWithCopyWarning: \n",
      "A value is trying to be set on a copy of a slice from a DataFrame\n",
      "\n",
      "See the caveats in the documentation: https://pandas.pydata.org/pandas-docs/stable/user_guide/indexing.html#returning-a-view-versus-a-copy\n",
      "  data_meta['ema26'][i] = ((data_meta['Close'][i] - data_meta['ema26'][i-1]) * 2 / (27)) + data_meta['ema26'][i-1]\n",
      "C:\\Users\\Aditya\\AppData\\Local\\Temp\\ipykernel_17932\\4100907183.py:17: SettingWithCopyWarning: \n",
      "A value is trying to be set on a copy of a slice from a DataFrame\n",
      "\n",
      "See the caveats in the documentation: https://pandas.pydata.org/pandas-docs/stable/user_guide/indexing.html#returning-a-view-versus-a-copy\n",
      "  data_tsla['ema13'][i] = ((data_tsla['Close'][i] - data_tsla['ema13'][i-1]) * 2 / (14)) + data_tsla['ema13'][i-1]\n",
      "C:\\Users\\Aditya\\AppData\\Local\\Temp\\ipykernel_17932\\4100907183.py:19: SettingWithCopyWarning: \n",
      "A value is trying to be set on a copy of a slice from a DataFrame\n",
      "\n",
      "See the caveats in the documentation: https://pandas.pydata.org/pandas-docs/stable/user_guide/indexing.html#returning-a-view-versus-a-copy\n",
      "  data_tsla['ema26'][i] = ((data_tsla['Close'][i] - data_tsla['ema26'][i-1]) * 2 / (27)) + data_tsla['ema26'][i-1]\n",
      "C:\\Users\\Aditya\\AppData\\Local\\Temp\\ipykernel_17932\\4100907183.py:23: SettingWithCopyWarning: \n",
      "A value is trying to be set on a copy of a slice from a DataFrame\n",
      "\n",
      "See the caveats in the documentation: https://pandas.pydata.org/pandas-docs/stable/user_guide/indexing.html#returning-a-view-versus-a-copy\n",
      "  data_goog['ema13'][i] = ((data_goog['Close'][i] - data_goog['ema13'][i-1]) * 2 / (14)) + data_goog['ema13'][i-1]\n",
      "C:\\Users\\Aditya\\AppData\\Local\\Temp\\ipykernel_17932\\4100907183.py:25: SettingWithCopyWarning: \n",
      "A value is trying to be set on a copy of a slice from a DataFrame\n",
      "\n",
      "See the caveats in the documentation: https://pandas.pydata.org/pandas-docs/stable/user_guide/indexing.html#returning-a-view-versus-a-copy\n",
      "  data_goog['ema26'][i] = ((data_goog['Close'][i] - data_goog['ema26'][i-1]) * 2 / (27)) + data_goog['ema26'][i-1]\n"
     ]
    }
   ],
   "source": [
    "data_aapl['ema13'] = 0\n",
    "data_aapl['ema26'] = 0\n",
    "for i in range(13,len(data_aapl)):\n",
    "    data_aapl['ema13'][i] = ((data_aapl['Close'][i] - data_aapl['ema13'][i-1]) * 2 / (14)) + data_aapl['ema13'][i-1]\n",
    "for i in range(26,len(data_aapl)):    \n",
    "    data_aapl['ema26'][i] = ((data_aapl['Close'][i] - data_aapl['ema26'][i-1]) * 2 / (27)) + data_aapl['ema26'][i-1]\n",
    "               \n",
    "data_meta['ema13'] = 0\n",
    "data_meta['ema26'] = 0\n",
    "for i in range(13,len(data_meta)):\n",
    "    data_meta['ema13'][i] = ((data_meta['Close'][i] - data_meta['ema13'][i-1]) * 2 / (14)) + data_meta['ema13'][i-1]\n",
    "for i in range(26,len(data_meta)):    \n",
    "    data_meta['ema26'][i] = ((data_meta['Close'][i] - data_meta['ema26'][i-1]) * 2 / (27)) + data_meta['ema26'][i-1]\n",
    "data_tsla['ema13'] = 0\n",
    "data_tsla['ema26'] = 0\n",
    "for i in range(13,len(data_tsla)):\n",
    "    data_tsla['ema13'][i] = ((data_tsla['Close'][i] - data_tsla['ema13'][i-1]) * 2 / (14)) + data_tsla['ema13'][i-1]\n",
    "for i in range(26,len(data_tsla)):    \n",
    "    data_tsla['ema26'][i] = ((data_tsla['Close'][i] - data_tsla['ema26'][i-1]) * 2 / (27)) + data_tsla['ema26'][i-1]\n",
    "data_goog['ema13'] = 0\n",
    "data_goog['ema26'] = 0\n",
    "for i in range(13,len(data_goog)):\n",
    "    data_goog['ema13'][i] = ((data_goog['Close'][i] - data_goog['ema13'][i-1]) * 2 / (14)) + data_goog['ema13'][i-1]\n",
    "for i in range(26,len(data_goog)):    \n",
    "    data_goog['ema26'][i] = ((data_goog['Close'][i] - data_goog['ema26'][i-1]) * 2 / (27)) + data_goog['ema26'][i-1]            "
   ]
  },
  {
   "cell_type": "code",
   "execution_count": 34,
   "id": "097c95d0",
   "metadata": {},
   "outputs": [],
   "source": [
    "ema_26 = data_aapl['Close'].ewm(span=26, adjust=False).mean()\n",
    "ema_12 = data_aapl['Close'].ewm(span=12, adjust=False).mean()\n",
    "macd_line = ema_12 - ema_26\n",
    "data_aapl['MACD'] = macd_line\n",
    "ema_26 = data_tsla['Close'].ewm(span=26, adjust=False).mean()\n",
    "ema_12 = data_tsla['Close'].ewm(span=12, adjust=False).mean()\n",
    "macd_line = ema_12 - ema_26\n",
    "data_tsla['MACD'] = macd_line\n",
    "ema_26 = data_goog['Close'].ewm(span=26, adjust=False).mean()\n",
    "ema_12 = data_goog['Close'].ewm(span=12, adjust=False).mean()\n",
    "macd_line = ema_12 - ema_26\n",
    "data_goog['MACD'] = macd_line\n",
    "ema_26 = data_meta['Close'].ewm(span=26, adjust=False).mean()\n",
    "ema_12 = data_meta['Close'].ewm(span=12, adjust=False).mean()\n",
    "macd_line = ema_12 - ema_26\n",
    "data_meta['MACD'] = macd_line"
   ]
  },
  {
   "cell_type": "code",
   "execution_count": 35,
   "id": "3fcf6aff",
   "metadata": {},
   "outputs": [],
   "source": [
    "data_aapl = data_aapl.dropna()\n",
    "data_meta = data_meta.dropna()\n",
    "data_goog = data_goog.dropna()\n",
    "data_tsla = data_tsla.dropna()\n",
    "# data.info()"
   ]
  },
  {
   "cell_type": "code",
   "execution_count": 37,
   "id": "0a1ecfa3",
   "metadata": {},
   "outputs": [
    {
     "name": "stderr",
     "output_type": "stream",
     "text": [
      "C:\\Users\\Aditya\\AppData\\Local\\Temp\\ipykernel_17932\\2413306531.py:1: SettingWithCopyWarning: \n",
      "A value is trying to be set on a copy of a slice from a DataFrame.\n",
      "Try using .loc[row_indexer,col_indexer] = value instead\n",
      "\n",
      "See the caveats in the documentation: https://pandas.pydata.org/pandas-docs/stable/user_guide/indexing.html#returning-a-view-versus-a-copy\n",
      "  data_aapl['result'] = 0\n",
      "C:\\Users\\Aditya\\AppData\\Local\\Temp\\ipykernel_17932\\2413306531.py:20: SettingWithCopyWarning: \n",
      "A value is trying to be set on a copy of a slice from a DataFrame\n",
      "\n",
      "See the caveats in the documentation: https://pandas.pydata.org/pandas-docs/stable/user_guide/indexing.html#returning-a-view-versus-a-copy\n",
      "  data_aapl['result'][i] = 0\n",
      "C:\\Users\\Aditya\\AppData\\Local\\Temp\\ipykernel_17932\\2413306531.py:18: SettingWithCopyWarning: \n",
      "A value is trying to be set on a copy of a slice from a DataFrame\n",
      "\n",
      "See the caveats in the documentation: https://pandas.pydata.org/pandas-docs/stable/user_guide/indexing.html#returning-a-view-versus-a-copy\n",
      "  data_aapl['result'][i] = 2\n",
      "C:\\Users\\Aditya\\AppData\\Local\\Temp\\ipykernel_17932\\2413306531.py:16: SettingWithCopyWarning: \n",
      "A value is trying to be set on a copy of a slice from a DataFrame\n",
      "\n",
      "See the caveats in the documentation: https://pandas.pydata.org/pandas-docs/stable/user_guide/indexing.html#returning-a-view-versus-a-copy\n",
      "  data_aapl['result'][i] = 1\n",
      "C:\\Users\\Aditya\\AppData\\Local\\Temp\\ipykernel_17932\\2413306531.py:36: SettingWithCopyWarning: \n",
      "A value is trying to be set on a copy of a slice from a DataFrame\n",
      "\n",
      "See the caveats in the documentation: https://pandas.pydata.org/pandas-docs/stable/user_guide/indexing.html#returning-a-view-versus-a-copy\n",
      "  data_tsla['result'][i] = 1\n",
      "C:\\Users\\Aditya\\AppData\\Local\\Temp\\ipykernel_17932\\2413306531.py:40: SettingWithCopyWarning: \n",
      "A value is trying to be set on a copy of a slice from a DataFrame\n",
      "\n",
      "See the caveats in the documentation: https://pandas.pydata.org/pandas-docs/stable/user_guide/indexing.html#returning-a-view-versus-a-copy\n",
      "  data_tsla['result'][i] = 0\n",
      "C:\\Users\\Aditya\\AppData\\Local\\Temp\\ipykernel_17932\\2413306531.py:38: SettingWithCopyWarning: \n",
      "A value is trying to be set on a copy of a slice from a DataFrame\n",
      "\n",
      "See the caveats in the documentation: https://pandas.pydata.org/pandas-docs/stable/user_guide/indexing.html#returning-a-view-versus-a-copy\n",
      "  data_tsla['result'][i] = 2\n",
      "C:\\Users\\Aditya\\AppData\\Local\\Temp\\ipykernel_17932\\2413306531.py:60: SettingWithCopyWarning: \n",
      "A value is trying to be set on a copy of a slice from a DataFrame\n",
      "\n",
      "See the caveats in the documentation: https://pandas.pydata.org/pandas-docs/stable/user_guide/indexing.html#returning-a-view-versus-a-copy\n",
      "  data_meta['result'][i] = 0\n",
      "C:\\Users\\Aditya\\AppData\\Local\\Temp\\ipykernel_17932\\2413306531.py:58: SettingWithCopyWarning: \n",
      "A value is trying to be set on a copy of a slice from a DataFrame\n",
      "\n",
      "See the caveats in the documentation: https://pandas.pydata.org/pandas-docs/stable/user_guide/indexing.html#returning-a-view-versus-a-copy\n",
      "  data_meta['result'][i] = 2\n",
      "C:\\Users\\Aditya\\AppData\\Local\\Temp\\ipykernel_17932\\2413306531.py:56: SettingWithCopyWarning: \n",
      "A value is trying to be set on a copy of a slice from a DataFrame\n",
      "\n",
      "See the caveats in the documentation: https://pandas.pydata.org/pandas-docs/stable/user_guide/indexing.html#returning-a-view-versus-a-copy\n",
      "  data_meta['result'][i] = 1\n",
      "C:\\Users\\Aditya\\AppData\\Local\\Temp\\ipykernel_17932\\2413306531.py:76: SettingWithCopyWarning: \n",
      "A value is trying to be set on a copy of a slice from a DataFrame\n",
      "\n",
      "See the caveats in the documentation: https://pandas.pydata.org/pandas-docs/stable/user_guide/indexing.html#returning-a-view-versus-a-copy\n",
      "  data_goog['result'][i] = 1\n",
      "C:\\Users\\Aditya\\AppData\\Local\\Temp\\ipykernel_17932\\2413306531.py:80: SettingWithCopyWarning: \n",
      "A value is trying to be set on a copy of a slice from a DataFrame\n",
      "\n",
      "See the caveats in the documentation: https://pandas.pydata.org/pandas-docs/stable/user_guide/indexing.html#returning-a-view-versus-a-copy\n",
      "  data_goog['result'][i] = 0\n",
      "C:\\Users\\Aditya\\AppData\\Local\\Temp\\ipykernel_17932\\2413306531.py:78: SettingWithCopyWarning: \n",
      "A value is trying to be set on a copy of a slice from a DataFrame\n",
      "\n",
      "See the caveats in the documentation: https://pandas.pydata.org/pandas-docs/stable/user_guide/indexing.html#returning-a-view-versus-a-copy\n",
      "  data_goog['result'][i] = 2\n"
     ]
    }
   ],
   "source": [
    "data_aapl['result'] = 0\n",
    "for i in range(200,len(data_aapl)):    \n",
    "    buy = 0\n",
    "    sell = 0\n",
    "    if data_aapl['rsi'][i]>=30 and data_aapl['rsi'][i]<=60: buy += 1\n",
    "    if data_aapl['ema50'][i] > data_aapl['ema200'][i]: buy += 1\n",
    "    if data_aapl['ema13'][i] > data_aapl['ema26'][i]: buy += 1\n",
    "    if data_aapl['MACD'][i] > 0: buy += 1\n",
    "    \n",
    "    if data_aapl['rsi'][i]>60: sell += 1\n",
    "    if data_aapl['ema50'][i] < data_aapl['ema200'][i]: sell += 1\n",
    "    if data_aapl['ema13'][i] < data_aapl['ema26'][i]: sell += 1\n",
    "    if data_aapl['MACD'][i] < 0: sell += 1\n",
    "        \n",
    "    if buy >= 3:\n",
    "        data_aapl['result'][i] = 1\n",
    "    elif sell >= 3:\n",
    "        data_aapl['result'][i] = 2\n",
    "    else:\n",
    "        data_aapl['result'][i] = 0\n",
    "data_tsla['result'] = 0\n",
    "for i in range(200,len(data_tsla)):    \n",
    "    buy = 0\n",
    "    sell = 0\n",
    "    if data_tsla['rsi'][i]>=30 and data_tsla['rsi'][i]<=60: buy += 1\n",
    "    if data_tsla['ema50'][i] > data_tsla['ema200'][i]: buy += 1\n",
    "    if data_tsla['ema13'][i] > data_tsla['ema26'][i]: buy += 1\n",
    "    if data_tsla['MACD'][i] > 0: buy += 1\n",
    "    \n",
    "    if data_tsla['rsi'][i]>60: sell += 1\n",
    "    if data_tsla['ema50'][i] < data_tsla['ema200'][i]: sell += 1\n",
    "    if data_tsla['ema13'][i] < data_tsla['ema26'][i]: sell += 1\n",
    "    if data_tsla['MACD'][i] < 0: sell += 1\n",
    "        \n",
    "    if buy >= 3:\n",
    "        data_tsla['result'][i] = 1\n",
    "    elif sell >= 3:\n",
    "        data_tsla['result'][i] = 2\n",
    "    else:\n",
    "        data_tsla['result'][i] = 0\n",
    "data_meta['result'] = 0\n",
    "for i in range(200,len(data_meta)):    \n",
    "    buy = 0\n",
    "    sell = 0\n",
    "    if data_meta['rsi'][i]>=30 and data_meta['rsi'][i]<=60: buy += 1\n",
    "    if data_meta['ema50'][i] > data_meta['ema200'][i]: buy += 1\n",
    "    if data_meta['ema13'][i] > data_meta['ema26'][i]: buy += 1\n",
    "    if data_meta['MACD'][i] > 0: buy += 1\n",
    "    \n",
    "    if data_meta['rsi'][i]>60: sell += 1\n",
    "    if data_meta['ema50'][i] < data_meta['ema200'][i]: sell += 1\n",
    "    if data_meta['ema13'][i] < data_meta['ema26'][i]: sell += 1\n",
    "    if data_meta['MACD'][i] < 0: sell += 1\n",
    "        \n",
    "    if buy >= 3:\n",
    "        data_meta['result'][i] = 1\n",
    "    elif sell >= 3:\n",
    "        data_meta['result'][i] = 2\n",
    "    else:\n",
    "        data_meta['result'][i] = 0\n",
    "data_goog['result'] = 0\n",
    "for i in range(200,len(data_goog)):    \n",
    "    buy = 0\n",
    "    sell = 0\n",
    "    if data_goog['rsi'][i]>=30 and data_goog['rsi'][i]<=60: buy += 1\n",
    "    if data_goog['ema50'][i] > data_goog['ema200'][i]: buy += 1\n",
    "    if data_goog['ema13'][i] > data_goog['ema26'][i]: buy += 1\n",
    "    if data_goog['MACD'][i] > 0: buy += 1\n",
    "    \n",
    "    if data_goog['rsi'][i]>60: sell += 1\n",
    "    if data_goog['ema50'][i] < data_goog['ema200'][i]: sell += 1\n",
    "    if data_goog['ema13'][i] < data_goog['ema26'][i]: sell += 1\n",
    "    if data_goog['MACD'][i] < 0: sell += 1\n",
    "        \n",
    "    if buy >= 3:\n",
    "        data_goog['result'][i] = 1\n",
    "    elif sell >= 3:\n",
    "        data_goog['result'][i] = 2\n",
    "    else:\n",
    "        data_goog['result'][i] = 0\n",
    "        \n",
    "        \n",
    "#     data_goog['ema200'][i] = ((data_goog['close'][i] - data_goog['ema200'][i-1]) * 2 / (201)) + data_goog['ema200'][i-1] \n",
    "        \n",
    "#     data_meta['ema200'][i] = ((data_meta['close'][i] - data_meta['ema200'][i-1]) * 2 / (201)) + data_meta['ema200'][i-1]\n",
    "        \n",
    "#     data_tsla['ema200'][i] = ((data_tsla['close'][i] - data_tsla['ema200'][i-1]) * 2 / (201)) + data_tsla['ema200'][i-1]\n",
    "               \n",
    "        \n",
    "        \n",
    "#     data_aapl['ema200'][i] = ((data_aapl['close'][i] - data_aapl['ema200'][i-1]) * 2 / (201)) + data_aapl['ema200'][i-1]"
   ]
  },
  {
   "cell_type": "code",
   "execution_count": 106,
   "id": "01ebc9f1",
   "metadata": {},
   "outputs": [],
   "source": [
    "final_data_aapl = data_aapl.drop(['Open','High','Low','Close','Volume','Dividends','Stock Splits','Typical price','avg gain','avg loss','avgg','avgl','rs'],axis=1)\n",
    "final_data_goog = data_goog.drop(['Open','High','Low','Close','Volume','Dividends','Stock Splits','Typical price','avg gain','avg loss','avgg','avgl','rs'],axis=1)\n",
    "final_data_tsla = data_tsla.drop(['Open','High','Low','Close','Volume','Dividends','Stock Splits','Typical price','avg gain','avg loss','avgg','avgl','rs'],axis=1)\n",
    "final_data_meta = data_meta.drop(['Open','High','Low','Close','Volume','Dividends','Stock Splits','Typical price','avg gain','avg loss','avgg','avgl','rs'],axis=1)"
   ]
  },
  {
   "cell_type": "code",
   "execution_count": 107,
   "id": "cd76189d",
   "metadata": {},
   "outputs": [],
   "source": [
    "final_data_aapl = final_data_aapl.reset_index()\n",
    "final_data_goog = final_data_goog.reset_index()\n",
    "final_data_tsla = final_data_tsla.reset_index()\n",
    "final_data_meta = final_data_meta.reset_index()"
   ]
  },
  {
   "cell_type": "code",
   "execution_count": 108,
   "id": "3c8b5a0f",
   "metadata": {},
   "outputs": [],
   "source": [
    "final_data_aapl = final_data_aapl.rename(columns={\"Date\": \"new_index\"})\n",
    "final_data_goog = final_data_goog.rename(columns={\"Date\": \"new_index\"})\n",
    "final_data_tsla = final_data_tsla.rename(columns={\"Date\": \"new_index\"})\n",
    "final_data_meta = final_data_meta.rename(columns={\"Date\": \"new_index\"})"
   ]
  },
  {
   "cell_type": "code",
   "execution_count": 109,
   "id": "3f868fe7",
   "metadata": {},
   "outputs": [],
   "source": [
    "final_data_aapl.insert(0, \"index\", range(1, len(data_aapl)+1))\n",
    "final_data_goog.insert(0, \"index\", range(1, len(data_goog)+1))\n",
    "final_data_tsla.insert(0, \"index\", range(1, len(data_tsla)+1))\n",
    "final_data_meta.insert(0, \"index\", range(1, len(data_meta)+1))"
   ]
  },
  {
   "cell_type": "code",
   "execution_count": 110,
   "id": "8f58d783",
   "metadata": {},
   "outputs": [],
   "source": [
    "final_data_aapl = final_data_aapl.drop(['index'],axis=1)\n",
    "final_data_goog = final_data_goog.drop(['index'],axis=1)\n",
    "final_data_tsla = final_data_tsla.drop(['index'],axis=1)\n",
    "final_data_meta = final_data_meta.drop(['index'],axis=1)"
   ]
  },
  {
   "cell_type": "code",
   "execution_count": 111,
   "id": "289ed4ac",
   "metadata": {},
   "outputs": [],
   "source": [
    "final_data_aapl = final_data_aapl.drop(['new_index'],axis=1)\n",
    "final_data_goog = final_data_goog.drop(['new_index'],axis=1)\n",
    "final_data_tsla = final_data_tsla.drop(['new_index'],axis=1)\n",
    "final_data_meta =  final_data_meta.drop(['new_index'],axis=1)"
   ]
  },
  {
   "cell_type": "code",
   "execution_count": 112,
   "id": "88c351b5",
   "metadata": {},
   "outputs": [],
   "source": [
    "final_data_aapl = final_data_aapl.drop(range(200))\n",
    "final_data_goog = final_data_goog.drop(range(200))\n",
    "final_data_tsla = final_data_tsla.drop(range(200))\n",
    "final_data_meta = final_data_meta.drop(range(200))\n",
    "# final_data_meta"
   ]
  },
  {
   "cell_type": "code",
   "execution_count": 114,
   "id": "c2cf3943",
   "metadata": {},
   "outputs": [],
   "source": [
    "stacked_df = pd.concat([final_data_aapl, final_data_goog,final_data_tsla, final_data_meta ], axis=0)"
   ]
  },
  {
   "cell_type": "code",
   "execution_count": 124,
   "id": "9e5810cc",
   "metadata": {},
   "outputs": [
    {
     "name": "stdout",
     "output_type": "stream",
     "text": [
      "<class 'pandas.core.frame.DataFrame'>\n",
      "RangeIndex: 4480 entries, 200 to 4679\n",
      "Data columns (total 7 columns):\n",
      " #   Column  Non-Null Count  Dtype  \n",
      "---  ------  --------------  -----  \n",
      " 0   rsi     4480 non-null   float64\n",
      " 1   ema50   4480 non-null   float64\n",
      " 2   ema200  4480 non-null   float64\n",
      " 3   ema13   4480 non-null   float64\n",
      " 4   ema26   4480 non-null   float64\n",
      " 5   MACD    4480 non-null   float64\n",
      " 6   result  4480 non-null   int64  \n",
      "dtypes: float64(6), int64(1)\n",
      "memory usage: 245.1 KB\n"
     ]
    }
   ],
   "source": [
    "final_data_goog.info()"
   ]
  },
  {
   "cell_type": "code",
   "execution_count": 125,
   "id": "f2c952ba",
   "metadata": {},
   "outputs": [],
   "source": [
    "x = stacked_df.iloc[:, :-1].values\n",
    "y = stacked_df.iloc[:, -1].values"
   ]
  },
  {
   "cell_type": "code",
   "execution_count": 128,
   "id": "035783c5",
   "metadata": {},
   "outputs": [],
   "source": [
    "x_train, x_test, y_train, y_test = train_test_split(x, y, test_size=0.2, random_state=42)"
   ]
  },
  {
   "cell_type": "code",
   "execution_count": 129,
   "id": "b7603fc0",
   "metadata": {},
   "outputs": [
    {
     "data": {
      "text/html": [
       "<style>#sk-container-id-1 {color: black;background-color: white;}#sk-container-id-1 pre{padding: 0;}#sk-container-id-1 div.sk-toggleable {background-color: white;}#sk-container-id-1 label.sk-toggleable__label {cursor: pointer;display: block;width: 100%;margin-bottom: 0;padding: 0.3em;box-sizing: border-box;text-align: center;}#sk-container-id-1 label.sk-toggleable__label-arrow:before {content: \"▸\";float: left;margin-right: 0.25em;color: #696969;}#sk-container-id-1 label.sk-toggleable__label-arrow:hover:before {color: black;}#sk-container-id-1 div.sk-estimator:hover label.sk-toggleable__label-arrow:before {color: black;}#sk-container-id-1 div.sk-toggleable__content {max-height: 0;max-width: 0;overflow: hidden;text-align: left;background-color: #f0f8ff;}#sk-container-id-1 div.sk-toggleable__content pre {margin: 0.2em;color: black;border-radius: 0.25em;background-color: #f0f8ff;}#sk-container-id-1 input.sk-toggleable__control:checked~div.sk-toggleable__content {max-height: 200px;max-width: 100%;overflow: auto;}#sk-container-id-1 input.sk-toggleable__control:checked~label.sk-toggleable__label-arrow:before {content: \"▾\";}#sk-container-id-1 div.sk-estimator input.sk-toggleable__control:checked~label.sk-toggleable__label {background-color: #d4ebff;}#sk-container-id-1 div.sk-label input.sk-toggleable__control:checked~label.sk-toggleable__label {background-color: #d4ebff;}#sk-container-id-1 input.sk-hidden--visually {border: 0;clip: rect(1px 1px 1px 1px);clip: rect(1px, 1px, 1px, 1px);height: 1px;margin: -1px;overflow: hidden;padding: 0;position: absolute;width: 1px;}#sk-container-id-1 div.sk-estimator {font-family: monospace;background-color: #f0f8ff;border: 1px dotted black;border-radius: 0.25em;box-sizing: border-box;margin-bottom: 0.5em;}#sk-container-id-1 div.sk-estimator:hover {background-color: #d4ebff;}#sk-container-id-1 div.sk-parallel-item::after {content: \"\";width: 100%;border-bottom: 1px solid gray;flex-grow: 1;}#sk-container-id-1 div.sk-label:hover label.sk-toggleable__label {background-color: #d4ebff;}#sk-container-id-1 div.sk-serial::before {content: \"\";position: absolute;border-left: 1px solid gray;box-sizing: border-box;top: 0;bottom: 0;left: 50%;z-index: 0;}#sk-container-id-1 div.sk-serial {display: flex;flex-direction: column;align-items: center;background-color: white;padding-right: 0.2em;padding-left: 0.2em;position: relative;}#sk-container-id-1 div.sk-item {position: relative;z-index: 1;}#sk-container-id-1 div.sk-parallel {display: flex;align-items: stretch;justify-content: center;background-color: white;position: relative;}#sk-container-id-1 div.sk-item::before, #sk-container-id-1 div.sk-parallel-item::before {content: \"\";position: absolute;border-left: 1px solid gray;box-sizing: border-box;top: 0;bottom: 0;left: 50%;z-index: -1;}#sk-container-id-1 div.sk-parallel-item {display: flex;flex-direction: column;z-index: 1;position: relative;background-color: white;}#sk-container-id-1 div.sk-parallel-item:first-child::after {align-self: flex-end;width: 50%;}#sk-container-id-1 div.sk-parallel-item:last-child::after {align-self: flex-start;width: 50%;}#sk-container-id-1 div.sk-parallel-item:only-child::after {width: 0;}#sk-container-id-1 div.sk-dashed-wrapped {border: 1px dashed gray;margin: 0 0.4em 0.5em 0.4em;box-sizing: border-box;padding-bottom: 0.4em;background-color: white;}#sk-container-id-1 div.sk-label label {font-family: monospace;font-weight: bold;display: inline-block;line-height: 1.2em;}#sk-container-id-1 div.sk-label-container {text-align: center;}#sk-container-id-1 div.sk-container {/* jupyter's `normalize.less` sets `[hidden] { display: none; }` but bootstrap.min.css set `[hidden] { display: none !important; }` so we also need the `!important` here to be able to override the default hidden behavior on the sphinx rendered scikit-learn.org. See: https://github.com/scikit-learn/scikit-learn/issues/21755 */display: inline-block !important;position: relative;}#sk-container-id-1 div.sk-text-repr-fallback {display: none;}</style><div id=\"sk-container-id-1\" class=\"sk-top-container\"><div class=\"sk-text-repr-fallback\"><pre>LogisticRegression(max_iter=3000)</pre><b>In a Jupyter environment, please rerun this cell to show the HTML representation or trust the notebook. <br />On GitHub, the HTML representation is unable to render, please try loading this page with nbviewer.org.</b></div><div class=\"sk-container\" hidden><div class=\"sk-item\"><div class=\"sk-estimator sk-toggleable\"><input class=\"sk-toggleable__control sk-hidden--visually\" id=\"sk-estimator-id-1\" type=\"checkbox\" checked><label for=\"sk-estimator-id-1\" class=\"sk-toggleable__label sk-toggleable__label-arrow\">LogisticRegression</label><div class=\"sk-toggleable__content\"><pre>LogisticRegression(max_iter=3000)</pre></div></div></div></div></div>"
      ],
      "text/plain": [
       "LogisticRegression(max_iter=3000)"
      ]
     },
     "execution_count": 129,
     "metadata": {},
     "output_type": "execute_result"
    }
   ],
   "source": [
    "clf = LogisticRegression(solver='lbfgs',max_iter=3000)\n",
    "clf.fit(x_train, y_train)"
   ]
  },
  {
   "cell_type": "code",
   "execution_count": 130,
   "id": "f3679bc3",
   "metadata": {},
   "outputs": [],
   "source": [
    "y_pred = clf.predict(x_test)"
   ]
  },
  {
   "cell_type": "code",
   "execution_count": 131,
   "id": "9df43924",
   "metadata": {},
   "outputs": [
    {
     "name": "stdout",
     "output_type": "stream",
     "text": [
      "Accuracy:  0.7260536398467433\n"
     ]
    }
   ],
   "source": [
    "acc = accuracy_score(y_test, y_pred)\n",
    "print(\"Accuracy: \", acc)"
   ]
  },
  {
   "cell_type": "code",
   "execution_count": 132,
   "id": "94a86039",
   "metadata": {},
   "outputs": [
    {
     "data": {
      "text/plain": [
       "0.9741379310344828"
      ]
     },
     "execution_count": 132,
     "metadata": {},
     "output_type": "execute_result"
    }
   ],
   "source": [
    "from sklearn.tree import DecisionTreeClassifier\n",
    "from sklearn import metrics\n",
    "dtree = DecisionTreeClassifier()\n",
    "dtree.fit(x_train,y_train)\n",
    "y_pred1 = dtree.predict(x_test)\n",
    "metrics.accuracy_score(y_test,y_pred1)"
   ]
  },
  {
   "cell_type": "code",
   "execution_count": 133,
   "id": "a0acf7b7",
   "metadata": {},
   "outputs": [
    {
     "data": {
      "text/plain": [
       "0.9840357598978289"
      ]
     },
     "execution_count": 133,
     "metadata": {},
     "output_type": "execute_result"
    }
   ],
   "source": [
    "from sklearn.ensemble import RandomForestClassifier\n",
    "rf = RandomForestClassifier(n_estimators=100, random_state=42)\n",
    "rf.fit(x_train, y_train)\n",
    "y_pred2 = rf.predict(x_test)\n",
    "metrics.accuracy_score(y_test, y_pred2)"
   ]
  },
  {
   "cell_type": "code",
   "execution_count": 134,
   "id": "cb4b25e3",
   "metadata": {},
   "outputs": [],
   "source": [
    "import pickle"
   ]
  },
  {
   "cell_type": "code",
   "execution_count": 135,
   "id": "32719a78",
   "metadata": {},
   "outputs": [],
   "source": [
    "pickle.dump(rf, open(\"stock_pred.pkl\", \"wb\"))"
   ]
  },
  {
   "cell_type": "code",
   "execution_count": 136,
   "id": "8a18ca6e",
   "metadata": {},
   "outputs": [],
   "source": [
    "with open('C:/Users/Aditya/Downloads/stock_pred.pkl', 'rb') as mlm:\n",
    "    model = pickle.load(mlm)"
   ]
  },
  {
   "cell_type": "code",
   "execution_count": 137,
   "id": "a2333674",
   "metadata": {},
   "outputs": [
    {
     "name": "stdout",
     "output_type": "stream",
     "text": [
      "Enter the current rsi :40\n",
      "Enter the current ema50 :100\n",
      "Enter the current ema200 :80\n",
      "Enter the current ema13 :100\n",
      "Enter the current ema26 :80\n",
      "Enter the current macd :0.1\n"
     ]
    }
   ],
   "source": [
    "lst_test = []\n",
    "rsi = float(input('Enter the current rsi :'))\n",
    "lst_test.append(rsi)\n",
    "ema50 = float(input('Enter the current ema50 :'))\n",
    "lst_test.append(ema50)\n",
    "ema200 = float(input('Enter the current ema200 :'))\n",
    "lst_test.append(ema200)\n",
    "ema13 = float(input('Enter the current ema13 :'))\n",
    "lst_test.append(ema13)\n",
    "ema26 = float(input('Enter the current ema26 :'))\n",
    "lst_test.append(ema26)\n",
    "macd = float(input('Enter the current macd :'))\n",
    "lst_test.append(macd)"
   ]
  },
  {
   "cell_type": "code",
   "execution_count": 138,
   "id": "45aad7eb",
   "metadata": {},
   "outputs": [
    {
     "name": "stdout",
     "output_type": "stream",
     "text": [
      "Buy it !\n"
     ]
    }
   ],
   "source": [
    "input_values = np.array(lst_test)\n",
    "input_values = input_values.reshape(1,-1)\n",
    "decision = model.predict(input_values)\n",
    "if decision == 0:\n",
    "    print('Neutral')\n",
    "elif decision == 1:\n",
    "    print('Buy it !')\n",
    "elif decision == 2:\n",
    "    print('Sell it')"
   ]
  },
  {
   "cell_type": "code",
   "execution_count": 151,
   "id": "c43fd908",
   "metadata": {},
   "outputs": [],
   "source": []
  },
  {
   "cell_type": "code",
   "execution_count": null,
   "id": "b76825c5",
   "metadata": {},
   "outputs": [],
   "source": []
  },
  {
   "cell_type": "code",
   "execution_count": null,
   "id": "41bb8504",
   "metadata": {},
   "outputs": [],
   "source": []
  },
  {
   "cell_type": "code",
   "execution_count": null,
   "id": "8b6aec16",
   "metadata": {},
   "outputs": [],
   "source": []
  }
 ],
 "metadata": {
  "kernelspec": {
   "display_name": "Python 3 (ipykernel)",
   "language": "python",
   "name": "python3"
  },
  "language_info": {
   "codemirror_mode": {
    "name": "ipython",
    "version": 3
   },
   "file_extension": ".py",
   "mimetype": "text/x-python",
   "name": "python",
   "nbconvert_exporter": "python",
   "pygments_lexer": "ipython3",
   "version": "3.10.9"
  }
 },
 "nbformat": 4,
 "nbformat_minor": 5
}
